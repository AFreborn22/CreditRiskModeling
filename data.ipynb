{
 "cells": [
  {
   "cell_type": "code",
   "execution_count": 28,
   "metadata": {},
   "outputs": [],
   "source": [
    "import pandas as pd"
   ]
  },
  {
   "cell_type": "code",
   "execution_count": 29,
   "metadata": {},
   "outputs": [],
   "source": [
    "df = pd.read_csv('mobil_listrik.csv')"
   ]
  },
  {
   "cell_type": "code",
   "execution_count": 30,
   "metadata": {},
   "outputs": [
    {
     "data": {
      "text/html": [
       "<div>\n",
       "<style scoped>\n",
       "    .dataframe tbody tr th:only-of-type {\n",
       "        vertical-align: middle;\n",
       "    }\n",
       "\n",
       "    .dataframe tbody tr th {\n",
       "        vertical-align: top;\n",
       "    }\n",
       "\n",
       "    .dataframe thead th {\n",
       "        text-align: right;\n",
       "    }\n",
       "</style>\n",
       "<table border=\"1\" class=\"dataframe\">\n",
       "  <thead>\n",
       "    <tr style=\"text-align: right;\">\n",
       "      <th></th>\n",
       "      <th>id_komentar</th>\n",
       "      <th>nama_akun</th>\n",
       "      <th>tanggal</th>\n",
       "      <th>text_cleaning</th>\n",
       "      <th>sentimen</th>\n",
       "    </tr>\n",
       "  </thead>\n",
       "  <tbody>\n",
       "    <tr>\n",
       "      <th>0</th>\n",
       "      <td>Ugzbll5eyrIy3-gdUUJ4AaABAg</td>\n",
       "      <td>Sqn Ldr</td>\n",
       "      <td>2023-08-06 12:54:49+00:00</td>\n",
       "      <td>saran sih bikin   harga ionic sama kayak brio ...</td>\n",
       "      <td>positif</td>\n",
       "    </tr>\n",
       "    <tr>\n",
       "      <th>1</th>\n",
       "      <td>UgzEDUiV3OTrV943p8p4AaABAg</td>\n",
       "      <td>lushen ace</td>\n",
       "      <td>2023-08-04 12:16:23+00:00</td>\n",
       "      <td>problem subsidi kualitas diturunin harga dinai...</td>\n",
       "      <td>negatif</td>\n",
       "    </tr>\n",
       "    <tr>\n",
       "      <th>2</th>\n",
       "      <td>UgwqJqu6JMF4EH2CsVV4AaABAg</td>\n",
       "      <td>Fatih Al-Ayyubi</td>\n",
       "      <td>2023-08-04 10:17:57+00:00</td>\n",
       "      <td>baik kualitas kembang dulu baik kualitas motor...</td>\n",
       "      <td>positif</td>\n",
       "    </tr>\n",
       "    <tr>\n",
       "      <th>3</th>\n",
       "      <td>UgyYicCMR1rKwuOj2Y14AaABAg</td>\n",
       "      <td>yp office</td>\n",
       "      <td>2023-08-04 08:29:54+00:00</td>\n",
       "      <td>model jelek kwalitas buruk harga mahal croot</td>\n",
       "      <td>negatif</td>\n",
       "    </tr>\n",
       "    <tr>\n",
       "      <th>4</th>\n",
       "      <td>UgxKAcLuAwZOQK6es-x4AaABAg</td>\n",
       "      <td>Lembur Kuring</td>\n",
       "      <td>2023-08-04 07:55:37+00:00</td>\n",
       "      <td>syarat   ngaco woy anak muda   blom punya ruma...</td>\n",
       "      <td>negatif</td>\n",
       "    </tr>\n",
       "  </tbody>\n",
       "</table>\n",
       "</div>"
      ],
      "text/plain": [
       "                  id_komentar        nama_akun                    tanggal  \\\n",
       "0  Ugzbll5eyrIy3-gdUUJ4AaABAg          Sqn Ldr  2023-08-06 12:54:49+00:00   \n",
       "1  UgzEDUiV3OTrV943p8p4AaABAg       lushen ace  2023-08-04 12:16:23+00:00   \n",
       "2  UgwqJqu6JMF4EH2CsVV4AaABAg  Fatih Al-Ayyubi  2023-08-04 10:17:57+00:00   \n",
       "3  UgyYicCMR1rKwuOj2Y14AaABAg        yp office  2023-08-04 08:29:54+00:00   \n",
       "4  UgxKAcLuAwZOQK6es-x4AaABAg    Lembur Kuring  2023-08-04 07:55:37+00:00   \n",
       "\n",
       "                                       text_cleaning sentimen  \n",
       "0  saran sih bikin   harga ionic sama kayak brio ...  positif  \n",
       "1  problem subsidi kualitas diturunin harga dinai...  negatif  \n",
       "2  baik kualitas kembang dulu baik kualitas motor...  positif  \n",
       "3       model jelek kwalitas buruk harga mahal croot  negatif  \n",
       "4  syarat   ngaco woy anak muda   blom punya ruma...  negatif  "
      ]
     },
     "execution_count": 30,
     "metadata": {},
     "output_type": "execute_result"
    }
   ],
   "source": [
    "df.head()"
   ]
  },
  {
   "cell_type": "code",
   "execution_count": 31,
   "metadata": {},
   "outputs": [
    {
     "data": {
      "text/plain": [
       "(1517, 5)"
      ]
     },
     "execution_count": 31,
     "metadata": {},
     "output_type": "execute_result"
    }
   ],
   "source": [
    "df.shape"
   ]
  },
  {
   "cell_type": "code",
   "execution_count": 32,
   "metadata": {},
   "outputs": [],
   "source": [
    "mode = df['nama_akun'].mode()[0]"
   ]
  },
  {
   "cell_type": "code",
   "execution_count": 33,
   "metadata": {},
   "outputs": [],
   "source": [
    "df = df.dropna()"
   ]
  },
  {
   "cell_type": "code",
   "execution_count": 34,
   "metadata": {},
   "outputs": [
    {
     "data": {
      "text/plain": [
       "id_komentar      0\n",
       "nama_akun        0\n",
       "tanggal          0\n",
       "text_cleaning    0\n",
       "sentimen         0\n",
       "dtype: int64"
      ]
     },
     "execution_count": 34,
     "metadata": {},
     "output_type": "execute_result"
    }
   ],
   "source": [
    "df.isnull().sum()"
   ]
  },
  {
   "cell_type": "code",
   "execution_count": null,
   "metadata": {},
   "outputs": [],
   "source": []
  }
 ],
 "metadata": {
  "kernelspec": {
   "display_name": "Python 3",
   "language": "python",
   "name": "python3"
  },
  "language_info": {
   "codemirror_mode": {
    "name": "ipython",
    "version": 3
   },
   "file_extension": ".py",
   "mimetype": "text/x-python",
   "name": "python",
   "nbconvert_exporter": "python",
   "pygments_lexer": "ipython3",
   "version": "3.11.4"
  }
 },
 "nbformat": 4,
 "nbformat_minor": 2
}
